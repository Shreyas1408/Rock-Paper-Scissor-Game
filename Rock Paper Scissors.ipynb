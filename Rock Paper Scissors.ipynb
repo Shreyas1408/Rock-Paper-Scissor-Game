{
 "cells": [
  {
   "cell_type": "markdown",
   "id": "8be8c8f0-c79a-46fc-892d-71c66e56a020",
   "metadata": {},
   "source": [
    "# Rock Paper Scissors Game"
   ]
  },
  {
   "cell_type": "code",
   "execution_count": null,
   "id": "7c78841c-0891-4045-923f-54dda87bf50e",
   "metadata": {},
   "outputs": [],
   "source": [
    "from PIL import Image\n",
    "image1 = Image.open(r\"D:\\FSDA\\2.PYTHON\\PROJECTS\\icons\\stone.png\")\n",
    "image2 = Image.open(r\"D:\\FSDA\\2.PYTHON\\PROJECTS\\icons\\file.png\")\n",
    "image3 = Image.open(r\"D:\\FSDA\\2.PYTHON\\PROJECTS\\icons\\scissors.png\")\n",
    "\n",
    "resized_image1 = image1.resize((50, 50))\n",
    "resized_image2 = image2.resize((50, 50))\n",
    "resized_image3 = image3.resize((50, 50))\n",
    "\n",
    "from IPython.display import display\n",
    "\n",
    "human_choice = str(input(\"ENTER YOUR CHOICE: \"))\n",
    "print(\"YOUR CHOICE IS: \")\n",
    "human_choice = human_choice.lower()\n",
    "\n",
    "if human_choice == 'rock':\n",
    "    display(resized_image1)\n",
    "if human_choice == 'paper':\n",
    "    display(resized_image2)\n",
    "if human_choice == 'scissor':\n",
    "    display(resized_image3)\n",
    "\n",
    "\n",
    "import random\n",
    "my_list = [resized_image1,resized_image2,resized_image3]\n",
    "random_choice = random.choice(my_list)\n",
    "print(\"COMPUTER CHOICE IS: \")\n",
    "display(random_choice)\n",
    "\n",
    "if random_choice == resized_image1 and human_choice == 'paper':\n",
    "    print('GREAT YOU WON!')\n",
    "elif random_choice == resized_image2 and human_choice == 'scissor':\n",
    "    print('GREAT YOU WON!')\n",
    "elif random_choice == resized_image3 and human_choice == 'rock':\n",
    "    print('GREAT YOU WON!')\n",
    "elif random_choice == resized_image2 and human_choice == 'rock':\n",
    "    print('UHOHHH YOU LOST!')\n",
    "elif random_choice == resized_image1 and human_choice == 'scissor':\n",
    "    print('UHOHHH YOU LOST!')\n",
    "elif random_choice == resized_image3 and human_choice == 'paper':\n",
    "    print('UHOHHH YOU LOST!')\n",
    "elif random_choice == human_choice:\n",
    "    print('TIED!!!')\n",
    "else:\n",
    "    print('ENTER VALID CHOICE')"
   ]
  }
 ],
 "metadata": {
  "kernelspec": {
   "display_name": "Python 3 (ipykernel)",
   "language": "python",
   "name": "python3"
  },
  "language_info": {
   "codemirror_mode": {
    "name": "ipython",
    "version": 3
   },
   "file_extension": ".py",
   "mimetype": "text/x-python",
   "name": "python",
   "nbconvert_exporter": "python",
   "pygments_lexer": "ipython3",
   "version": "3.11.5"
  }
 },
 "nbformat": 4,
 "nbformat_minor": 5
}
